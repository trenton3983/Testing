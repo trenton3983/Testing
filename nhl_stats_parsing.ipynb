{
 "cells": [
  {
   "cell_type": "code",
   "execution_count": null,
   "metadata": {},
   "outputs": [],
   "source": [
    "import csv\n",
    "import requests\n",
    "import datetime\n",
    "from pprint import pprint\n",
    "import time\n",
    "import pandas as pd\n",
    "from pprint import pprint as pp\n",
    "import json"
   ]
  },
  {
   "cell_type": "code",
   "execution_count": null,
   "metadata": {},
   "outputs": [],
   "source": [
    "pd.set_option('max_columns', 100)\n",
    "pd.set_option('max_rows', 300)"
   ]
  },
  {
   "cell_type": "markdown",
   "metadata": {},
   "source": [
    "https://stackoverflow.com/questions/52129161/create-2-new-columns-with-pandas-and-assign-variables-based-off-the-date"
   ]
  },
  {
   "cell_type": "markdown",
   "metadata": {},
   "source": [
    "I would like to alter the script below to give me 2 new columns with 3 possible variables. Date | gamePK | Home | Home Rest | Away | Away Rest\n",
    "\n",
    "The current matches.csv format is Date | gamePK | Home | Away\n",
    "\n",
    "Home Rest & Away Rest (-1 if the team played the day prior vs a team that didn't, 1 if the team didn't play the day prior vs an opponent who did, 0 otherwise)\n",
    "\n",
    "Any information on how to create the columns and write this statement for them would be much appreciated."
   ]
  },
  {
   "cell_type": "markdown",
   "metadata": {},
   "source": [
    "### make request to NHL stats server for data and save it to a file"
   ]
  },
  {
   "cell_type": "code",
   "execution_count": null,
   "metadata": {},
   "outputs": [],
   "source": [
    "address_p1 = 'https://statsapi.web.nhl.com/api/v1/schedule?site=en_nhl&gamePk=20180'\n",
    "address_p2 = '&leaderGameTypes=R&expand=schedule.broadcasts.all,schedule.radioBroadcasts,schedule.teams,schedule.ticket,schedule.game.content.media.epg'\n",
    "\n",
    "with open('data.json', 'w') as outfile:\n",
    "    \n",
    "    data_list = []\n",
    "    \n",
    "    for i in range(20001,20070):  # end 20070\n",
    "\n",
    "        req = requests.get(address_p1 + str(i) + address_p2)\n",
    "        data = req.json()\n",
    "        \n",
    "        data_list.append(data)  # append each request to the data list; will be a list of dicts\n",
    "        \n",
    "        \n",
    "    json.dump(data_list, outfile)  # save the json file so you don't have to keep hitting the nhl server with your testing"
   ]
  },
  {
   "cell_type": "markdown",
   "metadata": {},
   "source": [
    "### read the json file back in"
   ]
  },
  {
   "cell_type": "code",
   "execution_count": null,
   "metadata": {
    "scrolled": false
   },
   "outputs": [],
   "source": [
    "with open('data.json') as f:\n",
    "    data = json.load(f)"
   ]
  },
  {
   "cell_type": "markdown",
   "metadata": {},
   "source": [
    "### this is what 1 record looks like"
   ]
  },
  {
   "cell_type": "code",
   "execution_count": null,
   "metadata": {},
   "outputs": [],
   "source": [
    "for i, x in enumerate(data):\n",
    "    if i == 0:\n",
    "        pp(x)"
   ]
  },
  {
   "cell_type": "markdown",
   "metadata": {},
   "source": [
    "### parse each dict"
   ]
  },
  {
   "cell_type": "code",
   "execution_count": null,
   "metadata": {},
   "outputs": [],
   "source": [
    "kp = []\n",
    "for json_dict in data:\n",
    "    for item in json_dict['dates']:\n",
    "        date = item['date']\n",
    "        games = item['games']\n",
    "        for game in games:\n",
    "            gamePk = game['gamePk']\n",
    "            season = game['season']\n",
    "            teams = game['teams']\n",
    "            home = teams['home']\n",
    "            home_tm = home['team']['abbreviation']           \n",
    "            away = teams['away']\n",
    "            away_tm = away['team']['abbreviation']\n",
    "\n",
    "            print (date, gamePk, away_tm, home_tm)\n",
    "\n",
    "            kp.append([date, gamePk, away_tm, home_tm])"
   ]
  },
  {
   "cell_type": "markdown",
   "metadata": {},
   "source": [
    "### create DataFrame and save to csv"
   ]
  },
  {
   "cell_type": "code",
   "execution_count": null,
   "metadata": {},
   "outputs": [],
   "source": [
    "df = pd.DataFrame(kp, columns=['Date','gamePk','Home', 'Away'])\n",
    "df.to_csv('matches.csv', sep=',', header=True, index=False)"
   ]
  },
  {
   "cell_type": "markdown",
   "metadata": {},
   "source": [
    "### read in csv into DataFrame\n",
    "\n",
    "convert Data to proper datetime format"
   ]
  },
  {
   "cell_type": "code",
   "execution_count": null,
   "metadata": {},
   "outputs": [],
   "source": [
    "df = pd.read_csv('matches.csv', sep=',')\n",
    "# df['Date'] = pd.to_datetime(df['Date'], format='%Y-%m-%d')"
   ]
  },
  {
   "cell_type": "code",
   "execution_count": null,
   "metadata": {},
   "outputs": [],
   "source": [
    "df.head()  # first 5"
   ]
  },
  {
   "cell_type": "code",
   "execution_count": null,
   "metadata": {},
   "outputs": [],
   "source": [
    "df.info()"
   ]
  },
  {
   "cell_type": "markdown",
   "metadata": {},
   "source": [
    "# On Game Day, What is the Previous Day"
   ]
  },
  {
   "cell_type": "code",
   "execution_count": null,
   "metadata": {},
   "outputs": [],
   "source": [
    "def yesterday(date):\n",
    "    today = datetime.datetime.strptime(date, '%Y-%m-%d')\n",
    "    return datetime.datetime.strftime(today - datetime.timedelta(1), '%Y-%m-%d')"
   ]
  },
  {
   "cell_type": "code",
   "execution_count": null,
   "metadata": {},
   "outputs": [],
   "source": [
    "def yesterday_apply(df):\n",
    "    df['previous_day'] = df.apply(lambda row: yesterday(date=row['Date']), axis=1)"
   ]
  },
  {
   "cell_type": "code",
   "execution_count": null,
   "metadata": {},
   "outputs": [],
   "source": [
    "yesterday_apply(df)"
   ]
  },
  {
   "cell_type": "code",
   "execution_count": null,
   "metadata": {
    "scrolled": true
   },
   "outputs": [],
   "source": [
    "df"
   ]
  },
  {
   "cell_type": "markdown",
   "metadata": {},
   "source": [
    "# Did We Play on the Previous Day"
   ]
  },
  {
   "cell_type": "code",
   "execution_count": null,
   "metadata": {},
   "outputs": [],
   "source": [
    "def played_previous_day(df, date, team):\n",
    "    filter_t = f'(Date == \"{date}\") & ((Home == \"{team}\") | (Away == \"{team}\"))'\n",
    "    filtered_df = df.loc[df.eval(filter_t)]\n",
    "    if filtered_df.empty:\n",
    "        return False  # didn't play previous day\n",
    "    else:\n",
    "        return True  # played previous day"
   ]
  },
  {
   "cell_type": "code",
   "execution_count": null,
   "metadata": {},
   "outputs": [],
   "source": [
    "def played_previous_day_apply(df):\n",
    "    df['home_played_previous_day'] = df.apply(lambda row: played_previous_day(df, date=row['previous_day'], team=row['Home']), axis=1)\n",
    "    df['away_played_previous_day'] = df.apply(lambda row: played_previous_day(df, date=row['previous_day'], team=row['Away']), axis=1)"
   ]
  },
  {
   "cell_type": "code",
   "execution_count": null,
   "metadata": {},
   "outputs": [],
   "source": [
    "played_previous_day_apply(df)"
   ]
  },
  {
   "cell_type": "code",
   "execution_count": null,
   "metadata": {
    "scrolled": true
   },
   "outputs": [],
   "source": [
    "df"
   ]
  },
  {
   "cell_type": "markdown",
   "metadata": {},
   "source": [
    "# Determine Game Day Handicap"
   ]
  },
  {
   "cell_type": "markdown",
   "metadata": {},
   "source": [
    "Home Rest & Away Rest (-1 if the team played the day prior vs a team that didn't, 1 if the team didn't play the day prior vs an opponent who did, 0 otherwise)"
   ]
  },
  {
   "cell_type": "code",
   "execution_count": null,
   "metadata": {},
   "outputs": [],
   "source": [
    "def handicap(team, home, away):\n",
    "    if (team == 'home') and not home and away:\n",
    "        return 1\n",
    "    elif (team == 'away') and not home and away:\n",
    "        return -1\n",
    "    elif (team == 'home') and home and not away:\n",
    "        return -1\n",
    "    elif (team == 'away') and home and not away:\n",
    "        return 1\n",
    "    else:\n",
    "        return 0"
   ]
  },
  {
   "cell_type": "code",
   "execution_count": null,
   "metadata": {},
   "outputs": [],
   "source": [
    "def handicap_apply(df):\n",
    "    df['home_rest'] = df.apply(lambda row: handicap(team='home', home=row['home_played_previous_day'], away=row['away_played_previous_day']), axis=1)\n",
    "    df['away_rest'] = df.apply(lambda row: handicap(team='away', home=row['home_played_previous_day'], away=row['away_played_previous_day']), axis=1)"
   ]
  },
  {
   "cell_type": "code",
   "execution_count": null,
   "metadata": {},
   "outputs": [],
   "source": [
    "handicap_apply(df)"
   ]
  },
  {
   "cell_type": "code",
   "execution_count": null,
   "metadata": {},
   "outputs": [],
   "source": [
    "df"
   ]
  },
  {
   "cell_type": "markdown",
   "metadata": {},
   "source": [
    "### data presentation method"
   ]
  },
  {
   "cell_type": "code",
   "execution_count": null,
   "metadata": {},
   "outputs": [],
   "source": [
    "def find_last(match_date, da, team):\n",
    "\n",
    "        home_play = da[da['Home'] == team].tail(1)  # then find last matches played at home, select greatest\n",
    "        away_play = da[da['Away'] == team].tail(1)  # \"  \" find last matches played at away, select greatest\n",
    "\n",
    "        #then take the last match played, either home or away, whichever is more recent\n",
    "        if home_play.empty and away_play.empty:\n",
    "            print (team, \"no_matches before this date\")\n",
    "            last_match = 'NA'\n",
    "\n",
    "        elif home_play.empty:\n",
    "            last_match = away_play.Date.item()\n",
    "\n",
    "        elif away_play.empty:\n",
    "            last_match = home_play.Date.item()            \n",
    "\n",
    "        else:\n",
    "            last_match = max([home_play.Date.item(), away_play.Date.item()])\n",
    "\n",
    "\n",
    "        if last_match != 'NA':\n",
    "\n",
    "            #And then subtract this from \"todays\" date (match_date)\n",
    "            duration_since_last = pd.to_datetime(match_date) - pd.to_datetime(last_match)\n",
    "            print (\"Team:\", team)\n",
    "            print (\"Todays game date  = \", match_date)\n",
    "            print (\"Last match played = \", last_match)\n",
    "            print (\"Rest Period       = \", duration_since_last)\n",
    "\n",
    "            print()\n",
    "\n",
    "            return duration_since_last"
   ]
  },
  {
   "cell_type": "markdown",
   "metadata": {},
   "source": [
    "### produce your output"
   ]
  },
  {
   "cell_type": "code",
   "execution_count": null,
   "metadata": {
    "scrolled": true
   },
   "outputs": [],
   "source": [
    "for k in df.index:\n",
    "\n",
    "    home_team  = df.Home[k]\n",
    "    away_team  = df.Away[k]\n",
    "    match_date = df.Date[k]\n",
    "    gamePk = df.gamePk[k]\n",
    "\n",
    "    #we want to find all date values less than todays match date.\n",
    "    da = df[df['Date'] < match_date]\n",
    "\n",
    "##    if not da.empty:\n",
    "    for team in [home_team, away_team]:\n",
    "        print (\"Record\", k, home_team, 'vs', away_team)\n",
    "\n",
    "        find_last(match_date, da, team)  # call your method\n",
    "\n",
    "    print('_' * 40)"
   ]
  },
  {
   "cell_type": "code",
   "execution_count": null,
   "metadata": {},
   "outputs": [],
   "source": []
  }
 ],
 "metadata": {
  "kernelspec": {
   "display_name": "Python 3",
   "language": "python",
   "name": "python3"
  },
  "language_info": {
   "codemirror_mode": {
    "name": "ipython",
    "version": 3
   },
   "file_extension": ".py",
   "mimetype": "text/x-python",
   "name": "python",
   "nbconvert_exporter": "python",
   "pygments_lexer": "ipython3",
   "version": "3.6.5"
  }
 },
 "nbformat": 4,
 "nbformat_minor": 2
}
