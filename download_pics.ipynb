{
 "cells": [
  {
   "cell_type": "code",
   "execution_count": 1,
   "metadata": {},
   "outputs": [],
   "source": [
    "import requests\n",
    "from PIL import Image\n",
    "import shutil\n",
    "from io import open as iopen\n",
    "import os\n",
    "from time import sleep"
   ]
  },
  {
   "cell_type": "code",
   "execution_count": 15,
   "metadata": {},
   "outputs": [],
   "source": [
    "def download_image(url, image_file_path):\n",
    "    r = requests.get(url, timeout=10.0, stream=True)\n",
    "    if r.status_code != requests.codes.ok:\n",
    "        assert False, 'Status code error: {}.'.format(r.status_code)\n",
    "\n",
    "    with Image.open(io.BytesIO(r.content)) as im:\n",
    "        im.save(image_file_path, 'jpg')\n",
    "        \n",
    "\n",
    "    print('Image downloaded from url: {} and saved to: {}.'.format(url, image_file_path))"
   ]
  },
  {
   "cell_type": "code",
   "execution_count": null,
   "metadata": {},
   "outputs": [],
   "source": [
    "download_image(url=urls, image_file_path=ifp)"
   ]
  },
  {
   "cell_type": "code",
   "execution_count": 63,
   "metadata": {},
   "outputs": [],
   "source": [
    "ifp = 'C:/PythonProjects/Testing'\n",
    "\n",
    "# urls = \"http://subleague-photos.com/photo.php?set=1120&file=1124.26-img_9481.jpg&size=large\"\n",
    "urls = 'http://subleague-photos.com/pictures/1120/large'\n",
    "# urls = 'https://images.pexels.com/photos/207529/pexels-photo-207529.jpeg'"
   ]
  },
  {
   "cell_type": "code",
   "execution_count": 35,
   "metadata": {},
   "outputs": [],
   "source": [
    "session = requests.Session()\n",
    "result = session.get(urls, stream=True)"
   ]
  },
  {
   "cell_type": "code",
   "execution_count": 36,
   "metadata": {},
   "outputs": [],
   "source": [
    "with open(os.path.join(ifp, 'test.jpg'), 'wb') as image_file:\n",
    "    for chunk in result.iter_content(1024):\n",
    "        image_file.write(chunk)"
   ]
  },
  {
   "cell_type": "code",
   "execution_count": null,
   "metadata": {},
   "outputs": [],
   "source": []
  },
  {
   "cell_type": "code",
   "execution_count": 43,
   "metadata": {},
   "outputs": [],
   "source": [
    "i = requests.get(urls)\n",
    "with iopen(ifp, 'wb') as file:\n",
    "    file.write(i.content)"
   ]
  },
  {
   "cell_type": "code",
   "execution_count": null,
   "metadata": {},
   "outputs": [],
   "source": []
  },
  {
   "cell_type": "code",
   "execution_count": null,
   "metadata": {},
   "outputs": [],
   "source": []
  },
  {
   "cell_type": "code",
   "execution_count": null,
   "metadata": {},
   "outputs": [],
   "source": []
  },
  {
   "cell_type": "code",
   "execution_count": null,
   "metadata": {},
   "outputs": [],
   "source": []
  },
  {
   "cell_type": "code",
   "execution_count": 4,
   "metadata": {},
   "outputs": [],
   "source": [
    "urls = 'http://subleague-photos.com/pictures/1120/large'\n",
    "ifp = r'\\\\Galactica\\e\\Photos\\2018\\2018-05-12 Subleague JJ Tournament'"
   ]
  },
  {
   "cell_type": "code",
   "execution_count": 5,
   "metadata": {},
   "outputs": [],
   "source": [
    "images = [[1124.26, 9481], [1124.26, 9482], [1124.26, 9483], [1124.26, 9484],\n",
    "          [1124.28, 9485], [1124.28, 9486], [1124.32, 9487], [1124.34, 9488],\n",
    "          [1124.34, 9489], [1124.44, 9491], [1124.56, 9492], [1124.56, 9493],\n",
    "          [1125.02, 9494], [1125.14, 9505], [1125.14, 9506], [1125.14, 9507],\n",
    "          [1125.16, 9508], [1125.16, 9509], [1125.16, 9510], [1125.18, 9511],\n",
    "          [1125.18, 9512], [1125.18, 9513], [1125.20, 9514], [1125.20, 9515],\n",
    "          [1125.20, 9516], [1125.22, 9517], [1125.26, 9518], [1125.26, 9519],\n",
    "          [1125.26, 9520], [1125.28, 9521], [1125.28, 9522], [1125.28, 9523],\n",
    "          [1125.28, 9524], [1125.28, 9525], [1125.28, 9526], [1126.08, 9540],\n",
    "          [1126.16, 9541], [1126.16, 9542], [1126.16, 9543], [1126.16, 9544],\n",
    "          [1126.20, 9545], [1126.20, 9546], [1126.20, 9547], [1126.20, 9548],\n",
    "          [1126.32, 9549], [1126.32, 9550], [1126.32, 9551], [1126.34, 9552],\n",
    "          [1126.34, 9553], [1126.34, 9554]]"
   ]
  },
  {
   "cell_type": "code",
   "execution_count": 6,
   "metadata": {},
   "outputs": [
    {
     "name": "stdout",
     "output_type": "stream",
     "text": [
      "http://subleague-photos.com/pictures/1120/large/1124.26-img_9481.jpg\n",
      "http://subleague-photos.com/pictures/1120/large/1124.26-img_9482.jpg\n",
      "http://subleague-photos.com/pictures/1120/large/1124.26-img_9483.jpg\n",
      "http://subleague-photos.com/pictures/1120/large/1124.26-img_9484.jpg\n",
      "http://subleague-photos.com/pictures/1120/large/1124.28-img_9485.jpg\n",
      "http://subleague-photos.com/pictures/1120/large/1124.28-img_9486.jpg\n",
      "http://subleague-photos.com/pictures/1120/large/1124.32-img_9487.jpg\n",
      "http://subleague-photos.com/pictures/1120/large/1124.34-img_9488.jpg\n",
      "http://subleague-photos.com/pictures/1120/large/1124.34-img_9489.jpg\n",
      "http://subleague-photos.com/pictures/1120/large/1124.44-img_9491.jpg\n",
      "http://subleague-photos.com/pictures/1120/large/1124.56-img_9492.jpg\n",
      "http://subleague-photos.com/pictures/1120/large/1124.56-img_9493.jpg\n",
      "http://subleague-photos.com/pictures/1120/large/1125.02-img_9494.jpg\n",
      "http://subleague-photos.com/pictures/1120/large/1125.14-img_9505.jpg\n",
      "http://subleague-photos.com/pictures/1120/large/1125.14-img_9506.jpg\n",
      "http://subleague-photos.com/pictures/1120/large/1125.14-img_9507.jpg\n",
      "http://subleague-photos.com/pictures/1120/large/1125.16-img_9508.jpg\n",
      "http://subleague-photos.com/pictures/1120/large/1125.16-img_9509.jpg\n",
      "http://subleague-photos.com/pictures/1120/large/1125.16-img_9510.jpg\n",
      "http://subleague-photos.com/pictures/1120/large/1125.18-img_9511.jpg\n",
      "http://subleague-photos.com/pictures/1120/large/1125.18-img_9512.jpg\n",
      "http://subleague-photos.com/pictures/1120/large/1125.18-img_9513.jpg\n",
      "http://subleague-photos.com/pictures/1120/large/1125.20-img_9514.jpg\n",
      "http://subleague-photos.com/pictures/1120/large/1125.20-img_9515.jpg\n",
      "http://subleague-photos.com/pictures/1120/large/1125.20-img_9516.jpg\n",
      "http://subleague-photos.com/pictures/1120/large/1125.22-img_9517.jpg\n",
      "http://subleague-photos.com/pictures/1120/large/1125.26-img_9518.jpg\n",
      "http://subleague-photos.com/pictures/1120/large/1125.26-img_9519.jpg\n",
      "http://subleague-photos.com/pictures/1120/large/1125.26-img_9520.jpg\n",
      "http://subleague-photos.com/pictures/1120/large/1125.28-img_9521.jpg\n",
      "http://subleague-photos.com/pictures/1120/large/1125.28-img_9522.jpg\n",
      "http://subleague-photos.com/pictures/1120/large/1125.28-img_9523.jpg\n",
      "http://subleague-photos.com/pictures/1120/large/1125.28-img_9524.jpg\n",
      "http://subleague-photos.com/pictures/1120/large/1125.28-img_9525.jpg\n",
      "http://subleague-photos.com/pictures/1120/large/1125.28-img_9526.jpg\n",
      "http://subleague-photos.com/pictures/1120/large/1126.08-img_9540.jpg\n",
      "http://subleague-photos.com/pictures/1120/large/1126.16-img_9541.jpg\n",
      "http://subleague-photos.com/pictures/1120/large/1126.16-img_9542.jpg\n",
      "http://subleague-photos.com/pictures/1120/large/1126.16-img_9543.jpg\n",
      "http://subleague-photos.com/pictures/1120/large/1126.16-img_9544.jpg\n",
      "http://subleague-photos.com/pictures/1120/large/1126.20-img_9545.jpg\n",
      "http://subleague-photos.com/pictures/1120/large/1126.20-img_9546.jpg\n",
      "http://subleague-photos.com/pictures/1120/large/1126.20-img_9547.jpg\n",
      "http://subleague-photos.com/pictures/1120/large/1126.20-img_9548.jpg\n",
      "http://subleague-photos.com/pictures/1120/large/1126.32-img_9549.jpg\n",
      "http://subleague-photos.com/pictures/1120/large/1126.32-img_9550.jpg\n",
      "http://subleague-photos.com/pictures/1120/large/1126.32-img_9551.jpg\n",
      "http://subleague-photos.com/pictures/1120/large/1126.34-img_9552.jpg\n",
      "http://subleague-photos.com/pictures/1120/large/1126.34-img_9553.jpg\n",
      "http://subleague-photos.com/pictures/1120/large/1126.34-img_9554.jpg\n"
     ]
    }
   ],
   "source": [
    "for x in images:\n",
    "    sleep(10)\n",
    "    f_name = f\"{str(format(x[0], '.2f'))}-img_{str(x[1])}.jpg\"\n",
    "    url = f'{urls}/{f_name}'\n",
    "    save_as = os.path.join(ifp, f_name)\n",
    "    print(url)\n",
    "    i = requests.get(url)\n",
    "    with iopen(save_as, 'wb') as file:\n",
    "        file.write(i.content)"
   ]
  },
  {
   "cell_type": "code",
   "execution_count": null,
   "metadata": {},
   "outputs": [],
   "source": []
  }
 ],
 "metadata": {
  "kernelspec": {
   "display_name": "Python 3",
   "language": "python",
   "name": "python3"
  },
  "language_info": {
   "codemirror_mode": {
    "name": "ipython",
    "version": 3
   },
   "file_extension": ".py",
   "mimetype": "text/x-python",
   "name": "python",
   "nbconvert_exporter": "python",
   "pygments_lexer": "ipython3",
   "version": "3.6.5"
  }
 },
 "nbformat": 4,
 "nbformat_minor": 2
}
