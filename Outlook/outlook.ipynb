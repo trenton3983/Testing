{
 "cells": [
  {
   "cell_type": "markdown",
   "metadata": {},
   "source": [
    "[How to Read Outlook Emails by Python](#https://www.codementor.io/aliacetrefli/how-to-read-outlook-emails-by-python-jkp2ksk95)"
   ]
  },
  {
   "cell_type": "code",
   "execution_count": null,
   "metadata": {},
   "outputs": [],
   "source": [
    "import win32com.client\n",
    "import win32com\n",
    "import os\n",
    "import sys"
   ]
  },
  {
   "cell_type": "code",
   "execution_count": null,
   "metadata": {},
   "outputs": [],
   "source": [
    "f = open(\"testfile.txt\",\"w+\")"
   ]
  },
  {
   "cell_type": "code",
   "execution_count": null,
   "metadata": {},
   "outputs": [],
   "source": [
    "outlook = win32com.client.Dispatch(\"Outlook.Application\").GetNamespace(\"MAPI\")\n",
    "accounts= win32com.client.Dispatch(\"Outlook.Application\").Session.Accounts;"
   ]
  },
  {
   "cell_type": "code",
   "execution_count": null,
   "metadata": {},
   "outputs": [],
   "source": [
    "def Apple(folder):\n",
    "    messages = folder.Items\n",
    "    a=len(messages)\n",
    "    if a>0:\n",
    "        for message2 in messages:\n",
    "            try:\n",
    "                sender = message2.SenderEmailAddress\n",
    "                if sender != \"\":\n",
    "                    print(sender, file=f)\n",
    "            except:\n",
    "                print(\"Error\")\n",
    "                print(account.DeliveryStore.DisplayName)\n",
    "                pass\n",
    "            try:\n",
    "                message2.Save\n",
    "                message2.Close(0)\n",
    "            except:\n",
    "                 pass"
   ]
  },
  {
   "cell_type": "code",
   "execution_count": null,
   "metadata": {},
   "outputs": [],
   "source": [
    "for account in accounts:\n",
    "    global inbox\n",
    "    inbox = outlook.Folders(account.DeliveryStore.DisplayName)\n",
    "    print(\"****Account Name**********************************\",file=f)\n",
    "    print(account.DisplayName,file=f)\n",
    "    print(account.DisplayName)\n",
    "    print(\"***************************************************\",file=f)\n",
    "    folders = inbox.Folders\n",
    "\n",
    "    for folder in folders:\n",
    "        print(\"****Folder Name**********************************\", file=f)\n",
    "        print(folder, file=f)\n",
    "        print(\"*************************************************\", file=f)\n",
    "        Apple(folder)\n",
    "        a = len(folder.folders)\n",
    "\n",
    "        if a>0 :\n",
    "            global z\n",
    "            z = outlook.Folders(account.DeliveryStore.DisplayName).Folders(folder.name)\n",
    "            x = z.Folders\n",
    "            for y in x:\n",
    "                Apple(y)\n",
    "                print(\"****Folder Name**********************************\", file=f)\n",
    "                print(\"...\"+y.name,file=f)\n",
    "                print(\"*************************************************\", file=f)\n",
    "print(\"Finished Succesfully\")"
   ]
  },
  {
   "cell_type": "code",
   "execution_count": null,
   "metadata": {},
   "outputs": [],
   "source": [
    "import pandas as pd"
   ]
  },
  {
   "cell_type": "code",
   "execution_count": null,
   "metadata": {},
   "outputs": [],
   "source": [
    "df = pd.read_csv('testfile.txt', sep='\\n', header=None)"
   ]
  },
  {
   "cell_type": "code",
   "execution_count": null,
   "metadata": {},
   "outputs": [],
   "source": [
    "df.head()"
   ]
  },
  {
   "cell_type": "code",
   "execution_count": null,
   "metadata": {},
   "outputs": [],
   "source": [
    "df = df[df[0].str.contains('@')]"
   ]
  },
  {
   "cell_type": "code",
   "execution_count": null,
   "metadata": {},
   "outputs": [],
   "source": [
    "df.reset_index(inplace=True, drop=True)"
   ]
  },
  {
   "cell_type": "code",
   "execution_count": null,
   "metadata": {},
   "outputs": [],
   "source": [
    "df = df[0].str.lower()"
   ]
  },
  {
   "cell_type": "code",
   "execution_count": null,
   "metadata": {},
   "outputs": [],
   "source": [
    "df.value_counts()"
   ]
  },
  {
   "cell_type": "markdown",
   "metadata": {},
   "source": [
    "* [Reading e-mails from Outlook with Python through MAPI](#https://stackoverflow.com/questions/5077625/reading-e-mails-from-outlook-with-python-through-mapi)\n",
    "* [MailItem Interface](#https://docs.microsoft.com/en-us/dotnet/api/microsoft.office.interop.outlook.mailitem?redirectedfrom=MSDN&view=outlook-pia#properties_)\n",
    "* [OlDefaultFolders Enumeration (Outlook)](#https://docs.microsoft.com/en-us/office/vba/api/outlook.oldefaultfolders)\n",
    "* [Items Object (Outlook)](#https://docs.microsoft.com/en-us/office/vba/api/outlook.items)\n",
    "* [ContactItem Object (Outlook)](#https://docs.microsoft.com/en-us/office/vba/api/outlook.contactitem)"
   ]
  },
  {
   "cell_type": "code",
   "execution_count": null,
   "metadata": {},
   "outputs": [],
   "source": [
    "inbox = outlook.GetDefaultFolder(6)"
   ]
  },
  {
   "cell_type": "code",
   "execution_count": null,
   "metadata": {},
   "outputs": [],
   "source": [
    "inbox.Folders"
   ]
  },
  {
   "cell_type": "code",
   "execution_count": null,
   "metadata": {},
   "outputs": [],
   "source": [
    "messages = inbox.Items"
   ]
  },
  {
   "cell_type": "code",
   "execution_count": null,
   "metadata": {},
   "outputs": [],
   "source": [
    "messages(7000).Display()  # opens the email"
   ]
  },
  {
   "cell_type": "code",
   "execution_count": null,
   "metadata": {},
   "outputs": [],
   "source": [
    "message = messages.GetFirst()"
   ]
  },
  {
   "cell_type": "code",
   "execution_count": null,
   "metadata": {},
   "outputs": [],
   "source": [
    "print(message.Subject)\n",
    "print(message.To)\n",
    "print(message.ReceivedTime)\n",
    "print(message.Sender)\n",
    "print(message.SenderEmailAddress)\n",
    "print(message.SentOn)"
   ]
  },
  {
   "cell_type": "code",
   "execution_count": null,
   "metadata": {},
   "outputs": [],
   "source": [
    "print(message.body)"
   ]
  },
  {
   "cell_type": "code",
   "execution_count": null,
   "metadata": {},
   "outputs": [],
   "source": [
    "inbox = outlook.GetDefaultFolder(6)\n",
    "messages = inbox.Items\n",
    "y = messages.GetLast()\n",
    "print(f'Type: {type(y.body)}')\n",
    "print(y.body)\n",
    "print('*' * 100)\n",
    "print('*' * 100)\n",
    "i = 0\n",
    "while messages:\n",
    "    i+=1\n",
    "    y = messages.GetPrevious()\n",
    "    print(f'Type: {type(y.body)}')\n",
    "    print(y.body)\n",
    "    print('*' * 100)\n",
    "    print('*' * 100)\n",
    "#     print('\\n')\n",
    "    if i > 10:\n",
    "        break"
   ]
  }
 ],
 "metadata": {
  "kernelspec": {
   "display_name": "Python 3",
   "language": "python",
   "name": "python3"
  },
  "language_info": {
   "codemirror_mode": {
    "name": "ipython",
    "version": 3
   },
   "file_extension": ".py",
   "mimetype": "text/x-python",
   "name": "python",
   "nbconvert_exporter": "python",
   "pygments_lexer": "ipython3",
   "version": "3.7.2"
  }
 },
 "nbformat": 4,
 "nbformat_minor": 2
}
