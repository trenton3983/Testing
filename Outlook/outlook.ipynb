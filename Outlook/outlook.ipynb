{
 "cells": [
  {
   "cell_type": "markdown",
   "metadata": {},
   "source": [
    "[How to Read Outlook Emails by Python](https://www.codementor.io/aliacetrefli/how-to-read-outlook-emails-by-python-jkp2ksk95)"
   ]
  },
  {
   "cell_type": "code",
   "execution_count": null,
   "metadata": {},
   "outputs": [],
   "source": [
    "import win32com.client\n",
    "import win32com\n",
    "import os\n",
    "import sys\n",
    "import pandas as pd\n",
    "import re\n",
    "from collections import Counter\n",
    "import matplotlib.pyplot as plt\n",
    "import numpy as np"
   ]
  },
  {
   "cell_type": "markdown",
   "metadata": {},
   "source": [
    "## Create outlook mapi and outlook accounts objects"
   ]
  },
  {
   "cell_type": "code",
   "execution_count": null,
   "metadata": {},
   "outputs": [],
   "source": [
    "outlook = win32com.client.Dispatch(\"Outlook.Application\").GetNamespace(\"MAPI\")\n",
    "accounts = win32com.client.Dispatch(\"Outlook.Application\").Session.Accounts;"
   ]
  },
  {
   "cell_type": "markdown",
   "metadata": {},
   "source": [
    "## To quit the com objects"
   ]
  },
  {
   "cell_type": "code",
   "execution_count": null,
   "metadata": {},
   "outputs": [],
   "source": [
    "outlook.Application.quit()  "
   ]
  },
  {
   "cell_type": "code",
   "execution_count": null,
   "metadata": {},
   "outputs": [],
   "source": [
    "accounts.Application.quit()"
   ]
  },
  {
   "cell_type": "markdown",
   "metadata": {},
   "source": [
    "## Parse all emails from all folders from all accounts for sender email addressses"
   ]
  },
  {
   "cell_type": "code",
   "execution_count": null,
   "metadata": {},
   "outputs": [],
   "source": [
    "def Apple(folder):\n",
    "    messages = folder.Items\n",
    "    a=len(messages)\n",
    "    if a>0:\n",
    "        for message2 in messages:\n",
    "            try:\n",
    "                sender = message2.SenderEmailAddress\n",
    "                if sender != \"\":\n",
    "                    print(sender, file=f)\n",
    "            except:\n",
    "                print(\"Error\")\n",
    "                print(account.DeliveryStore.DisplayName)\n",
    "                pass\n",
    "            try:\n",
    "                message2.Save\n",
    "                message2.Close(0)\n",
    "            except:\n",
    "                 pass"
   ]
  },
  {
   "cell_type": "code",
   "execution_count": null,
   "metadata": {},
   "outputs": [],
   "source": [
    "with open('testfile.txt', 'w') as f:\n",
    "    for account in accounts:\n",
    "        global inbox\n",
    "        inbox = outlook.Folders(account.DeliveryStore.DisplayName)\n",
    "        print(\"****Account Name**********************************\",file=f)\n",
    "        print(account.DisplayName,file=f)\n",
    "        print(account.DisplayName)\n",
    "        print(\"***************************************************\",file=f)\n",
    "        folders = inbox.Folders\n",
    "\n",
    "        for folder in folders:\n",
    "            print(\"****Folder Name**********************************\", file=f)\n",
    "            print(folder, file=f)\n",
    "            print(\"*************************************************\", file=f)\n",
    "            Apple(folder)\n",
    "            a = len(folder.folders)\n",
    "\n",
    "            if a>0 :\n",
    "                global z\n",
    "                z = outlook.Folders(account.DeliveryStore.DisplayName).Folders(folder.name)\n",
    "                x = z.Folders\n",
    "                for y in x:\n",
    "                    Apple(y)\n",
    "                    print(\"****Folder Name**********************************\", file=f)\n",
    "                    print(\"...\"+y.name,file=f)\n",
    "                    print(\"*************************************************\", file=f)\n",
    "print(\"Finished Succesfully\")"
   ]
  },
  {
   "cell_type": "markdown",
   "metadata": {},
   "source": [
    "## Read, parse and count only the email addresses from all folders"
   ]
  },
  {
   "cell_type": "code",
   "execution_count": null,
   "metadata": {},
   "outputs": [],
   "source": [
    "df = pd.read_csv('testfile.txt', sep='\\n', header=None)"
   ]
  },
  {
   "cell_type": "code",
   "execution_count": null,
   "metadata": {},
   "outputs": [],
   "source": [
    "df.head()"
   ]
  },
  {
   "cell_type": "code",
   "execution_count": null,
   "metadata": {},
   "outputs": [],
   "source": [
    "df = df[df[0].str.contains('@')]  # filters out all non-email address rows"
   ]
  },
  {
   "cell_type": "code",
   "execution_count": null,
   "metadata": {},
   "outputs": [],
   "source": [
    "df.reset_index(inplace=True, drop=True)"
   ]
  },
  {
   "cell_type": "code",
   "execution_count": null,
   "metadata": {},
   "outputs": [],
   "source": [
    "df = df[0].str.lower()"
   ]
  },
  {
   "cell_type": "code",
   "execution_count": null,
   "metadata": {},
   "outputs": [],
   "source": [
    "df.value_counts()"
   ]
  },
  {
   "cell_type": "markdown",
   "metadata": {},
   "source": [
    "* [Reading e-mails from Outlook with Python through MAPI](https://stackoverflow.com/questions/5077625/reading-e-mails-from-outlook-with-python-through-mapi)\n",
    "* [MailItem Interface](https://docs.microsoft.com/en-us/dotnet/api/microsoft.office.interop.outlook.mailitem?redirectedfrom=MSDN&view=outlook-pia#properties_)\n",
    "* [OlDefaultFolders Enumeration (Outlook)](https://docs.microsoft.com/en-us/office/vba/api/outlook.oldefaultfolders)\n",
    "* [Items Object (Outlook)](https://docs.microsoft.com/en-us/office/vba/api/outlook.items)\n",
    "* [ContactItem Object (Outlook)](https://docs.microsoft.com/en-us/office/vba/api/outlook.contactitem)"
   ]
  },
  {
   "cell_type": "markdown",
   "metadata": {},
   "source": [
    "## Figuring out how to retrieve information from the message"
   ]
  },
  {
   "cell_type": "code",
   "execution_count": null,
   "metadata": {},
   "outputs": [],
   "source": [
    "inbox = outlook.GetDefaultFolder(6)  # 6 is the inbox"
   ]
  },
  {
   "cell_type": "code",
   "execution_count": null,
   "metadata": {},
   "outputs": [],
   "source": [
    "inbox.Folders"
   ]
  },
  {
   "cell_type": "code",
   "execution_count": null,
   "metadata": {},
   "outputs": [],
   "source": [
    "messages = inbox.Items"
   ]
  },
  {
   "cell_type": "code",
   "execution_count": null,
   "metadata": {},
   "outputs": [],
   "source": [
    "messages"
   ]
  },
  {
   "cell_type": "code",
   "execution_count": null,
   "metadata": {},
   "outputs": [],
   "source": [
    "messages(2).Display()  # opens the email"
   ]
  },
  {
   "cell_type": "code",
   "execution_count": null,
   "metadata": {},
   "outputs": [],
   "source": [
    "message = messages.GetFirst()"
   ]
  },
  {
   "cell_type": "code",
   "execution_count": null,
   "metadata": {},
   "outputs": [],
   "source": [
    "print(message.Subject)\n",
    "print(message.To)\n",
    "print(message.ReceivedTime)\n",
    "print(message.Sender)\n",
    "print(message.SenderEmailAddress)\n",
    "print(message.SentOn)"
   ]
  },
  {
   "cell_type": "code",
   "execution_count": null,
   "metadata": {},
   "outputs": [],
   "source": [
    "print(message.body)"
   ]
  },
  {
   "cell_type": "code",
   "execution_count": null,
   "metadata": {},
   "outputs": [],
   "source": [
    "type(message.body)"
   ]
  },
  {
   "cell_type": "code",
   "execution_count": null,
   "metadata": {},
   "outputs": [],
   "source": [
    "with open('data.txt', 'w') as f:\n",
    "    f.write(message.body)"
   ]
  },
  {
   "cell_type": "code",
   "execution_count": null,
   "metadata": {},
   "outputs": [],
   "source": [
    "import re"
   ]
  },
  {
   "cell_type": "code",
   "execution_count": null,
   "metadata": {},
   "outputs": [],
   "source": [
    "word = re.sub(r'\\n+', '\\n', message.body).strip()"
   ]
  },
  {
   "cell_type": "code",
   "execution_count": null,
   "metadata": {},
   "outputs": [],
   "source": [
    "word"
   ]
  },
  {
   "cell_type": "code",
   "execution_count": null,
   "metadata": {},
   "outputs": [],
   "source": [
    "inbox = outlook.GetDefaultFolder(6)\n",
    "messages = inbox.Items\n",
    "y = messages.GetLast()\n",
    "\n",
    "with open('messages.txt', 'w') as f:\n",
    "    f.write(f'{y.Subject}\\n')\n",
    "    f.write(f'{y.To}\\n')\n",
    "    f.write(f'{str(y.ReceivedTime)}\\n')\n",
    "    f.write(f'{str(y.Sender)}\\n')\n",
    "    f.write(f'{y.SenderEmailAddress}\\n')\n",
    "    f.write(f'{str(y.SentOn)}\\n')\n",
    "    f.write(y.body)\n",
    "\n",
    "    i = 0\n",
    "    for x in range(len(messages)-1):\n",
    "        i+=1\n",
    "        y = messages.GetPrevious()\n",
    "\n",
    "        try: \n",
    "            f.write('*' * 100)\n",
    "            f.write('*' * 100)\n",
    "            f.write(f'{y.Subject}\\n')\n",
    "            f.write(f'{y.To}\\n')\n",
    "            f.write(f'{str(y.ReceivedTime)}\\n')\n",
    "            f.write(f'{str(y.Sender)}\\n')\n",
    "            f.write(f'{y.SenderEmailAddress}\\n')\n",
    "            f.write(f'{str(y.SentOn)}\\n')\n",
    "#             f.write(y.body)\n",
    "\n",
    "\n",
    "        except AttributeError as error:\n",
    "            print(error)\n",
    "\n",
    "        if i > 10:\n",
    "            break"
   ]
  },
  {
   "cell_type": "markdown",
   "metadata": {},
   "source": [
    "## Parse Inbox and create list of dicts"
   ]
  },
  {
   "cell_type": "code",
   "execution_count": null,
   "metadata": {},
   "outputs": [],
   "source": [
    "inbox = outlook.GetDefaultFolder(6)\n",
    "messages = inbox.Items\n",
    "\n",
    "list_dict_messages = list()\n",
    "messages_length = len(messages)\n",
    "\n",
    "for x in range(messages_length):\n",
    "    if x == 0:\n",
    "        print(f'Messages to parse: {messages_length}')\n",
    "        y = messages.GetLast()\n",
    "    else:\n",
    "        y = messages.GetPrevious()\n",
    "        \n",
    "    \n",
    "    try:\n",
    "        sent_date = y.SentOn\n",
    "    except AttributeError:\n",
    "        sent_date = ''\n",
    "    try:\n",
    "        received_date = y.ReceivedTime\n",
    "    except AttributeError:\n",
    "        received_date = ''\n",
    "    try:\n",
    "        from_name = y.Sender\n",
    "    except AttributeError:\n",
    "        from_name = ''\n",
    "    try:\n",
    "        from_address = y.SenderEmailAddress\n",
    "    except AttributeError:\n",
    "        from_address = ''\n",
    "    try:\n",
    "        recipient = y.To\n",
    "    except AttributeError:\n",
    "        recipient = ''\n",
    "    try:\n",
    "        subject = y.Subject\n",
    "    except AttributeError:\n",
    "        subject = ''\n",
    "    try:\n",
    "        body = y.body\n",
    "    except AttributeError:\n",
    "        body = ''\n",
    "        \n",
    "    email_info = {'sent_date': sent_date, 'received_date': received_date, 'from_name': from_name,\n",
    "                  'from_address': from_address, 'recipient': recipient, 'subject': subject, 'body': body}\n",
    "    \n",
    "    list_dict_messages.append(email_info)\n",
    "    if x % 100 == 0:\n",
    "        print(f'Messages parsed: {x+1}')\n",
    "\n",
    "outlook.Application.Quit()\n",
    "accounts.Application.Quit()"
   ]
  },
  {
   "cell_type": "markdown",
   "metadata": {},
   "source": [
    "## Create DataFrame"
   ]
  },
  {
   "cell_type": "code",
   "execution_count": null,
   "metadata": {},
   "outputs": [],
   "source": [
    "df = pd.DataFrame(list_dict_messages, dtype='str')"
   ]
  },
  {
   "cell_type": "code",
   "execution_count": null,
   "metadata": {},
   "outputs": [],
   "source": [
    "df.head()"
   ]
  },
  {
   "cell_type": "code",
   "execution_count": null,
   "metadata": {},
   "outputs": [],
   "source": [
    "df.info()"
   ]
  },
  {
   "cell_type": "code",
   "execution_count": null,
   "metadata": {},
   "outputs": [],
   "source": [
    "df.from_name.fillna(df.from_address, inplace=True)"
   ]
  },
  {
   "cell_type": "code",
   "execution_count": null,
   "metadata": {},
   "outputs": [],
   "source": [
    "df.info()"
   ]
  },
  {
   "cell_type": "markdown",
   "metadata": {},
   "source": [
    "## Save to csv"
   ]
  },
  {
   "cell_type": "code",
   "execution_count": null,
   "metadata": {},
   "outputs": [],
   "source": [
    "df.to_csv('all_emails.csv', index=False)"
   ]
  },
  {
   "cell_type": "markdown",
   "metadata": {},
   "source": [
    "## Read from csv"
   ]
  },
  {
   "cell_type": "code",
   "execution_count": null,
   "metadata": {},
   "outputs": [],
   "source": [
    "df = pd.read_csv('all_emails.csv', parse_dates=['received_date', 'sent_date'])"
   ]
  },
  {
   "cell_type": "markdown",
   "metadata": {},
   "source": [
    "## Parse out all links from email body"
   ]
  },
  {
   "cell_type": "code",
   "execution_count": null,
   "metadata": {},
   "outputs": [],
   "source": [
    "df['links_in_body'] = df.body.apply(lambda x: list(set(re.findall('https?://(?:[-\\w.]|(?:%[\\da-fA-F]{2}))+', str(x)))))"
   ]
  },
  {
   "cell_type": "code",
   "execution_count": null,
   "metadata": {},
   "outputs": [],
   "source": [
    "df.from_name.fillna(df.from_address, inplace=True)"
   ]
  },
  {
   "cell_type": "code",
   "execution_count": null,
   "metadata": {},
   "outputs": [],
   "source": [
    "df.fillna('', inplace=True)"
   ]
  },
  {
   "cell_type": "code",
   "execution_count": null,
   "metadata": {},
   "outputs": [],
   "source": [
    "df.sent_date = pd.to_datetime(df.sent_date, errors='coerce')"
   ]
  },
  {
   "cell_type": "code",
   "execution_count": null,
   "metadata": {},
   "outputs": [],
   "source": [
    "df.info()"
   ]
  },
  {
   "cell_type": "code",
   "execution_count": null,
   "metadata": {},
   "outputs": [],
   "source": [
    "df.head()"
   ]
  },
  {
   "cell_type": "markdown",
   "metadata": {},
   "source": [
    "## Create LinkedIn DataFrame"
   ]
  },
  {
   "cell_type": "code",
   "execution_count": null,
   "metadata": {},
   "outputs": [],
   "source": [
    "linkedin = df[df.from_address.str.contains('linkedin')]  # inside the braces is a boolean filter"
   ]
  },
  {
   "cell_type": "code",
   "execution_count": null,
   "metadata": {},
   "outputs": [],
   "source": [
    "linkedin.info()"
   ]
  },
  {
   "cell_type": "code",
   "execution_count": null,
   "metadata": {},
   "outputs": [],
   "source": [
    "for i, x in enumerate(linkedin.body.tail(1)):\n",
    "    print(f'{\"*\"*150}\\nMessage: {i}\\n{x}')"
   ]
  },
  {
   "cell_type": "markdown",
   "metadata": {},
   "source": [
    "## Parse all links into a list (remove http & https)"
   ]
  },
  {
   "cell_type": "code",
   "execution_count": null,
   "metadata": {},
   "outputs": [],
   "source": [
    "links_list = list()\n",
    "for y in df.links_in_body:\n",
    "    if y:\n",
    "        links_list.extend(y)"
   ]
  },
  {
   "cell_type": "code",
   "execution_count": null,
   "metadata": {},
   "outputs": [],
   "source": [
    "links_list[:5]"
   ]
  },
  {
   "cell_type": "code",
   "execution_count": null,
   "metadata": {},
   "outputs": [],
   "source": [
    "links_list2 = list()\n",
    "for x in links_list:\n",
    "    y = x.split('/')\n",
    "    links_list2.append(y[-1])"
   ]
  },
  {
   "cell_type": "code",
   "execution_count": null,
   "metadata": {},
   "outputs": [],
   "source": [
    "links_list2[:5]"
   ]
  },
  {
   "cell_type": "markdown",
   "metadata": {},
   "source": [
    "## Unique counts of links"
   ]
  },
  {
   "cell_type": "code",
   "execution_count": null,
   "metadata": {},
   "outputs": [],
   "source": [
    "links_counts = Counter(links_list2)"
   ]
  },
  {
   "cell_type": "code",
   "execution_count": null,
   "metadata": {},
   "outputs": [],
   "source": [
    "links_counts.most_common(10)"
   ]
  },
  {
   "cell_type": "code",
   "execution_count": null,
   "metadata": {},
   "outputs": [],
   "source": [
    "links_counts.most_common()[-10:]"
   ]
  },
  {
   "cell_type": "code",
   "execution_count": null,
   "metadata": {},
   "outputs": [],
   "source": [
    "df['date'] = df.sent_date.dt.normalize()"
   ]
  },
  {
   "cell_type": "code",
   "execution_count": null,
   "metadata": {},
   "outputs": [],
   "source": [
    "df.info()"
   ]
  },
  {
   "cell_type": "code",
   "execution_count": null,
   "metadata": {},
   "outputs": [],
   "source": [
    "test = df[['date', 'from_name']].groupby(['date']).count()"
   ]
  },
  {
   "cell_type": "code",
   "execution_count": null,
   "metadata": {},
   "outputs": [],
   "source": [
    "test.head()"
   ]
  },
  {
   "cell_type": "markdown",
   "metadata": {},
   "source": [
    "## Plots of email counts"
   ]
  },
  {
   "cell_type": "code",
   "execution_count": null,
   "metadata": {},
   "outputs": [],
   "source": [
    "test.plot(kind='bar', legend=False, figsize=(15,9))\n",
    "plt.ylabel('email counts')\n",
    "plt.show()"
   ]
  },
  {
   "cell_type": "code",
   "execution_count": null,
   "metadata": {},
   "outputs": [],
   "source": [
    "year_list = ['2019', '2020']\n",
    "\n",
    "for x in year_list:\n",
    "    test.loc[x].plot(legend=False, figsize=(7,4), subplots=True)\n",
    "    plt.ylabel('email counts')\n",
    "    plt.xlabel(f'Year: {x}')\n",
    "plt.show()"
   ]
  },
  {
   "cell_type": "markdown",
   "metadata": {},
   "source": [
    "## This section has to be run from a conda environment with pyviz"
   ]
  },
  {
   "cell_type": "code",
   "execution_count": null,
   "metadata": {},
   "outputs": [],
   "source": [
    "import time\n",
    "# import param\n",
    "\n",
    "import numpy as np\n",
    "from bokeh.sampledata import stocks\n",
    "import holoviews as hv\n",
    "from holoviews import opts\n",
    "\n",
    "from holoviews.operation.timeseries import rolling, rolling_outlier_std\n",
    "from holoviews.operation.datashader import datashade, dynspread"
   ]
  },
  {
   "cell_type": "code",
   "execution_count": null,
   "metadata": {},
   "outputs": [],
   "source": [
    "hv.extension('bokeh')\n",
    "\n",
    "opts.defaults(opts.Curve(width=600, framewise=True))"
   ]
  },
  {
   "cell_type": "code",
   "execution_count": null,
   "metadata": {},
   "outputs": [],
   "source": [
    "def load_symbol(years, **kwargs):\n",
    "    df3 = test.loc[years]\n",
    "    return hv.Curve(df3, ('date', 'Date'), ('from_name', 'Number of emails'))\n",
    "\n",
    "year_list = ['2009', '2010', '2011', '2012', '2013', '2014']\n",
    "dmap = hv.DynamicMap(load_symbol, kdims='Year').redim.values(Year=year_list)"
   ]
  },
  {
   "cell_type": "code",
   "execution_count": null,
   "metadata": {},
   "outputs": [],
   "source": [
    "dmap"
   ]
  },
  {
   "cell_type": "code",
   "execution_count": null,
   "metadata": {},
   "outputs": [],
   "source": []
  }
 ],
 "metadata": {
  "kernelspec": {
   "display_name": "Python 3",
   "language": "python",
   "name": "python3"
  },
  "language_info": {
   "codemirror_mode": {
    "name": "ipython",
    "version": 3
   },
   "file_extension": ".py",
   "mimetype": "text/x-python",
   "name": "python",
   "nbconvert_exporter": "python",
   "pygments_lexer": "ipython3",
   "version": "3.7.7"
  }
 },
 "nbformat": 4,
 "nbformat_minor": 4
}
